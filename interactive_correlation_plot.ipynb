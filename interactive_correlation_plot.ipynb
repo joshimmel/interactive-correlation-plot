{
 "cells": [
  {
   "cell_type": "code",
   "execution_count": 1,
   "metadata": {},
   "outputs": [],
   "source": [
    "\n",
    "# Barebones code to plot interactive correlation plot on web"
   ]
  },
  {
   "cell_type": "code",
   "execution_count": 20,
   "metadata": {},
   "outputs": [],
   "source": [
    "def log(msg):\n",
    "    with open(\"voila_debug_log.txt\", \"a\", encoding=\"utf-8\") as f:\n",
    "        f.write(str(msg) + \"\\n\")\n",
    "\n",
    "# Optional: clear log at start of each session\n",
    "with open(\"voila_debug_log.txt\", \"w\") as f:\n",
    "    f.write(\"Starting new Voila session...\\n\")\n"
   ]
  },
  {
   "cell_type": "code",
   "execution_count": 21,
   "metadata": {},
   "outputs": [],
   "source": [
    "import pandas as pd\n",
    "import numpy as np\n",
    "import plotly.graph_objs as go\n",
    "import ipywidgets as widgets\n",
    "from IPython.display import display\n",
    "from scipy.stats import pearsonr\n",
    "\n"
   ]
  },
  {
   "cell_type": "code",
   "execution_count": 22,
   "metadata": {},
   "outputs": [],
   "source": [
    "# Load the saved CSV file back into a dataframe\n",
    "merged_data = pd.read_csv(\"merged_data_MAR_LOI_GS.csv\", index_col=0)"
   ]
  },
  {
   "cell_type": "code",
   "execution_count": 23,
   "metadata": {},
   "outputs": [],
   "source": [
    "# Automatically extract site names and variable types from column names\n",
    "site_names = sorted(set(col.split('_')[0] for col in merged_data.columns if \"_Year\" in col))\n",
    "variables = sorted(set(col.split('_')[1] for col in merged_data.columns if not col.endswith(\"Year\")))\n"
   ]
  },
  {
   "cell_type": "code",
   "execution_count": 25,
   "metadata": {},
   "outputs": [],
   "source": [
    "from plotly.offline import plot\n",
    "from IPython.display import display, HTML\n",
    "from scipy.stats import pearsonr\n",
    "\n",
    "# Color-blind-friendly palette (Color Universal Design - CUD)\n",
    "CUD_COLORS = {\n",
    "    \"LOI\": \"#E69F00\",\n",
    "    \"MAR\": \"#56B4E9\",\n",
    "    \"mean\": \"#009E73\",\n",
    "    \"DBD\": \"#F0E442\",\n",
    "    \"percentclay\": \"#0072B2\",\n",
    "    \"default\": \"#999999\"\n",
    "}\n",
    "\n",
    "def log(msg):\n",
    "    with open(\"voila_debug_log.txt\", \"a\", encoding=\"utf-8\") as f:\n",
    "        f.write(str(msg) + \"\\n\")\n",
    "\n",
    "# Optional: clear the log at the start of the session\n",
    "with open(\"voila_debug_log.txt\", \"w\") as f:\n",
    "    f.write(\"Starting new Voila session...\\n\")\n",
    "\n",
    "\n",
    "# Create the base figure once\n",
    "fig = go.Figure()\n",
    "\n",
    "# Add four placeholder traces (background X, background Y, zoomed X, zoomed Y)\n",
    "fig.add_trace(go.Scatter(name='X (all)', mode='lines+markers', yaxis='y'))\n",
    "fig.add_trace(go.Scatter(name='Y (all)', mode='lines+markers', yaxis='y2'))\n",
    "fig.add_trace(go.Scatter(name='X (zoom)', mode='lines+markers', yaxis='y'))\n",
    "fig.add_trace(go.Scatter(name='Y (zoom)', mode='lines+markers', yaxis='y2'))\n",
    "\n",
    "# Set up layout here once (same as before)\n",
    "fig.update_layout(\n",
    "    xaxis=dict(title='Year'),\n",
    "    yaxis=dict(\n",
    "        title=dict(text='Variable 1', font=dict(color='blue')),\n",
    "        tickfont=dict(color='blue')\n",
    "    ),\n",
    "    yaxis2=dict(\n",
    "        title=dict(text='Variable 2', font=dict(color='red')),\n",
    "        tickfont=dict(color='red'),\n",
    "        overlaying='y',\n",
    "        side='right',\n",
    "        showgrid=False\n",
    "    ),\n",
    "    legend=dict(orientation=\"h\", yanchor=\"top\", y=-0.25, xanchor=\"center\", x=0.5),\n",
    "    height=500,\n",
    ")\n",
    "\n",
    "\n",
    "def update_plot(site, year_range, var1, var2):\n",
    "    try:\n",
    "        year_col = f'{site}_Year'\n",
    "        x_col = f'{site}_{var1}'\n",
    "        y_col = f'{site}_{var2}'\n",
    "\n",
    "        df = merged_data[[year_col, x_col, y_col]].dropna()\n",
    "        df = df.rename(columns={year_col: 'Year', x_col: 'X', y_col: 'Y'})\n",
    "\n",
    "        df_full = df.copy()\n",
    "        df_zoom = df[(df['Year'] >= year_range[0]) & (df['Year'] <= year_range[1])]\n",
    "\n",
    "        if len(df_zoom) >= 2 and df_zoom['X'].nunique() > 1 and df_zoom['Y'].nunique() > 1:\n",
    "            r, p = pearsonr(df_zoom['X'], df_zoom['Y'])\n",
    "            corr_label = f\"Pearson r = {r:.2f}, p = {p:.2g}\"\n",
    "        else:\n",
    "            corr_label = \"Correlation not valid\"\n",
    "\n",
    "        color1 = CUD_COLORS.get(var1, CUD_COLORS[\"default\"])\n",
    "        color2 = CUD_COLORS.get(var2, CUD_COLORS[\"default\"])\n",
    "\n",
    "        # Now just update the traces directly (fig.data)\n",
    "        fig.data[0].x = df_full['Year']\n",
    "        fig.data[0].y = df_full['X']\n",
    "        fig.data[0].name = f'{var1} (all)'\n",
    "        fig.data[0].line.color = color1\n",
    "        fig.data[0].line.dash = 'dot'\n",
    "\n",
    "        fig.data[1].x = df_full['Year']\n",
    "        fig.data[1].y = df_full['Y']\n",
    "        fig.data[1].name = f'{var2} (all)'\n",
    "        fig.data[1].line.color = color2\n",
    "        fig.data[1].line.dash = 'dot'\n",
    "\n",
    "        fig.data[2].x = df_zoom['Year']\n",
    "        fig.data[2].y = df_zoom['X']\n",
    "        fig.data[2].name = f'{var1} (zoom)'\n",
    "        fig.data[2].line.color = color1\n",
    "        fig.data[2].line.width = 4\n",
    "\n",
    "        fig.data[3].x = df_zoom['Year']\n",
    "        fig.data[3].y = df_zoom['Y']\n",
    "        fig.data[3].name = f'{var2} (zoom)'\n",
    "        fig.data[3].line.color = color2\n",
    "        fig.data[3].line.width = 4\n",
    "\n",
    "        # Update titles\n",
    "        fig.update_layout(\n",
    "            title=dict(\n",
    "                text=f\"{site}: Variable 1 = {var1}, Variable 2 = {var2} ({year_range[0]}–{year_range[1]})<br>{corr_label}\",\n",
    "                x=0.5,\n",
    "                xanchor='center'\n",
    "            ),\n",
    "            yaxis=dict(title=dict(text=f'Variable 1: {var1}', font=dict(color=color1)), tickfont=dict(color=color1)),\n",
    "            yaxis2=dict(title=dict(text=f'Variable 2: {var2}', font=dict(color=color2)), tickfont=dict(color=color2)),\n",
    "        )\n",
    "\n",
    "        display(HTML(plot(fig, include_plotlyjs=False, output_type='div')))\n",
    "\n",
    "    except Exception as e:\n",
    "        log(f\"[ERROR] Exception in update_plot: {e}\")\n",
    "\n"
   ]
  },
  {
   "cell_type": "code",
   "execution_count": 26,
   "metadata": {},
   "outputs": [
    {
     "data": {
      "application/vnd.jupyter.widget-view+json": {
       "model_id": "e5e1a180279c4f5a80d0b037fdccb26f",
       "version_major": 2,
       "version_minor": 0
      },
      "text/plain": [
       "interactive(children=(Dropdown(description='Site:', options=('OC-21-01', 'OC-21-02', 'OC-21-03'), value='OC-21…"
      ]
     },
     "metadata": {},
     "output_type": "display_data"
    },
    {
     "data": {
      "text/plain": [
       "<function __main__.update_plot(site, year_range, var1, var2)>"
      ]
     },
     "execution_count": 26,
     "metadata": {},
     "output_type": "execute_result"
    }
   ],
   "source": [
    "site_selector = widgets.Dropdown(\n",
    "    options=site_names,\n",
    "    value=site_names[0],\n",
    "    description='Site:'\n",
    ")\n",
    "\n",
    "year_slider = widgets.IntRangeSlider(\n",
    "    value=[1980, 2000],\n",
    "    min=1950,\n",
    "    max=2022,\n",
    "    step=1,\n",
    "    description='Year Range:',\n",
    "    continuous_update=False\n",
    ")\n",
    "\n",
    "x_selector = widgets.Dropdown(\n",
    "    options=variables,\n",
    "    value='MAR',\n",
    "    description='X Variable:'\n",
    ")\n",
    "\n",
    "y_selector = widgets.Dropdown(\n",
    "    options=variables,\n",
    "    value='LOI',\n",
    "    description='Y Variable:'\n",
    ")\n",
    "\n",
    "widgets.interact(\n",
    "    update_plot,\n",
    "    site=site_selector,\n",
    "    year_range=year_slider,\n",
    "    var1=x_selector,\n",
    "    var2=y_selector\n",
    ")\n"
   ]
  }
 ],
 "metadata": {
  "kernelspec": {
   "display_name": "EDSReanalysis",
   "language": "python",
   "name": "python3"
  },
  "language_info": {
   "codemirror_mode": {
    "name": "ipython",
    "version": 3
   },
   "file_extension": ".py",
   "mimetype": "text/x-python",
   "name": "python",
   "nbconvert_exporter": "python",
   "pygments_lexer": "ipython3",
   "version": "3.8.16"
  }
 },
 "nbformat": 4,
 "nbformat_minor": 2
}
