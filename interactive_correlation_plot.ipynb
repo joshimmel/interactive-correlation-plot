{
 "cells": [
  {
   "cell_type": "code",
   "execution_count": 1,
   "metadata": {},
   "outputs": [],
   "source": [
    "\n",
    "# Barebones code to plot interactive correlation plot on web"
   ]
  },
  {
   "cell_type": "code",
   "execution_count": 8,
   "metadata": {},
   "outputs": [],
   "source": [
    "def log(msg):\n",
    "    with open(\"voila_debug_log.txt\", \"a\", encoding=\"utf-8\") as f:\n",
    "        f.write(str(msg) + \"\\n\")\n",
    "\n",
    "# Optional: clear log at start of each session\n",
    "with open(\"voila_debug_log.txt\", \"w\") as f:\n",
    "    f.write(\"Starting new Voila session...\\n\")\n"
   ]
  },
  {
   "cell_type": "code",
   "execution_count": 2,
   "metadata": {},
   "outputs": [],
   "source": [
    "import pandas as pd\n",
    "import numpy as np\n",
    "import plotly.graph_objs as go\n",
    "import ipywidgets as widgets\n",
    "from IPython.display import display\n",
    "from scipy.stats import pearsonr\n",
    "\n"
   ]
  },
  {
   "cell_type": "code",
   "execution_count": 7,
   "metadata": {},
   "outputs": [],
   "source": [
    "# Load the saved CSV file back into a dataframe\n",
    "merged_data = pd.read_csv(\n",
    "    r\"C:\\Users\\Rodriguez Lab\\OneDrive - University of North Carolina at Chapel Hill\\Desktop\\Josh-Desktop\\Marsh_Levee_Project\\data-workup\\merged_data_MAR_LOI_GS.csv\",\n",
    "    index_col=0)"
   ]
  },
  {
   "cell_type": "code",
   "execution_count": 9,
   "metadata": {},
   "outputs": [],
   "source": [
    "# Automatically extract site names and variable types from column names\n",
    "site_names = sorted(set(col.split('_')[0] for col in merged_data.columns if \"_Year\" in col))\n",
    "variables = sorted(set(col.split('_')[1] for col in merged_data.columns if not col.endswith(\"Year\")))\n"
   ]
  },
  {
   "cell_type": "code",
   "execution_count": 25,
   "metadata": {},
   "outputs": [],
   "source": [
    "from plotly.offline import plot\n",
    "from IPython.display import display, HTML\n",
    "from scipy.stats import pearsonr\n",
    "\n",
    "# Color-blind-friendly palette (Color Universal Design - CUD)\n",
    "CUD_COLORS = {\n",
    "    \"LOI\": \"#E69F00\",\n",
    "    \"MAR\": \"#56B4E9\",\n",
    "    \"mean\": \"#009E73\",\n",
    "    \"DBD\": \"#F0E442\",\n",
    "    \"percent_clay\": \"#0072B2\",\n",
    "    \"default\": \"#999999\"\n",
    "}\n",
    "\n",
    "def log(msg):\n",
    "    with open(\"voila_debug_log.txt\", \"a\", encoding=\"utf-8\") as f:\n",
    "        f.write(str(msg) + \"\\n\")\n",
    "\n",
    "# Optional: clear the log at the start of the session\n",
    "with open(\"voila_debug_log.txt\", \"w\") as f:\n",
    "    f.write(\"Starting new Voila session...\\n\")\n",
    "\n",
    "def update_plot(site, year_range, xvar, yvar):\n",
    "    try:\n",
    "        log(f\"[DEBUG] Running update_plot with: site={site}, year_range={year_range}, var1={xvar}, var2={yvar}\")\n",
    "\n",
    "        year_col = f'{site}_Year'\n",
    "        x_col = f'{site}_{xvar}'\n",
    "        y_col = f'{site}_{yvar}'\n",
    "\n",
    "        log(f\"[DEBUG] Columns being used: {year_col}, {x_col}, {y_col}\")\n",
    "        df = merged_data[[year_col, x_col, y_col]].dropna()\n",
    "        df = df.rename(columns={year_col: 'Year', x_col: 'X', y_col: 'Y'})\n",
    "\n",
    "        df_full = df.copy()\n",
    "        df_zoom = df[(df['Year'] >= year_range[0]) & (df['Year'] <= year_range[1])]\n",
    "        log(f\"[DEBUG] Zoomed DataFrame length: {len(df_zoom)}\")\n",
    "\n",
    "        if len(df_zoom) >= 2 and df_zoom['X'].nunique() > 1 and df_zoom['Y'].nunique() > 1:\n",
    "            r, p = pearsonr(df_zoom['X'], df_zoom['Y'])\n",
    "            corr_label = f\"Pearson r = {r:.2f}, p = {p:.2g}\"\n",
    "        else:\n",
    "            corr_label = \"Correlation not valid in this window\"\n",
    "\n",
    "        log(f\"[DEBUG] corr_label: {corr_label}\")\n",
    "        log(\"[DEBUG] Plotting...\")\n",
    "\n",
    "        color1 = CUD_COLORS.get(xvar, CUD_COLORS[\"default\"])\n",
    "        color2 = CUD_COLORS.get(yvar, CUD_COLORS[\"default\"])\n",
    "\n",
    "        fig = go.Figure()\n",
    "\n",
    "        # Full background\n",
    "        fig.add_trace(go.Scatter(\n",
    "            x=df_full['Year'], y=df_full['X'],\n",
    "            mode='lines+markers', name=f'{xvar} (all)',\n",
    "            line=dict(color=color1, dash='dot'),\n",
    "            yaxis='y'\n",
    "        ))\n",
    "\n",
    "        fig.add_trace(go.Scatter(\n",
    "            x=df_full['Year'], y=df_full['Y'],\n",
    "            mode='lines+markers', name=f'{yvar} (all)',\n",
    "            line=dict(color=color2, dash='dot'),\n",
    "            yaxis='y2'\n",
    "        ))\n",
    "\n",
    "        # Zoomed window\n",
    "        fig.add_trace(go.Scatter(\n",
    "            x=df_zoom['Year'], y=df_zoom['X'],\n",
    "            mode='lines+markers', name=f'{xvar} (zoom)',\n",
    "            line=dict(color=color1, width=4),\n",
    "            yaxis='y'\n",
    "        ))\n",
    "\n",
    "        fig.add_trace(go.Scatter(\n",
    "            x=df_zoom['Year'], y=df_zoom['Y'],\n",
    "            mode='lines+markers', name=f'{yvar} (zoom)',\n",
    "            line=dict(color=color2, width=4),\n",
    "            yaxis='y2'\n",
    "        ))\n",
    "\n",
    "        fig.update_layout(\n",
    "            title=dict(\n",
    "                text=f\"{site}: Variable 1 = {xvar}, Variable 2 = {yvar} ({year_range[0]}–{year_range[1]})\",\n",
    "                x=0.5,\n",
    "                xanchor='center'\n",
    "            ),\n",
    "            annotations=[\n",
    "                dict(\n",
    "                    text=corr_label,\n",
    "                    xref='paper', yref='paper',\n",
    "                    x=0.5, y=1.07,\n",
    "                    showarrow=False,\n",
    "                    font=dict(size=12)\n",
    "                )\n",
    "            ],\n",
    "            xaxis=dict(title='Year'),\n",
    "            yaxis=dict(\n",
    "                title=dict(text=f'Variable 1: {xvar}', font=dict(color=color1)),\n",
    "                tickfont=dict(color=color1)\n",
    "            ),\n",
    "            yaxis2=dict(\n",
    "                title=dict(text=f'Variable 2: {yvar}', font=dict(color=color2)),\n",
    "                tickfont=dict(color=color2),\n",
    "                overlaying='y',\n",
    "                side='right',\n",
    "                showgrid=False  # hide conflicting gridlines\n",
    "            ),\n",
    "\n",
    "            legend=dict(\n",
    "                orientation=\"h\",\n",
    "                yanchor=\"top\",\n",
    "                y=-0.25,\n",
    "                xanchor=\"center\",\n",
    "                x=0.5\n",
    "            ),\n",
    "            height=500,\n",
    "        )\n",
    "\n",
    "        display(HTML(plot(fig, include_plotlyjs=True, output_type='div')))\n",
    "\n",
    "    except Exception as e:\n",
    "        log(f\"[ERROR] Exception in update_plot: {e}\")\n"
   ]
  },
  {
   "cell_type": "code",
   "execution_count": 26,
   "metadata": {},
   "outputs": [
    {
     "data": {
      "application/vnd.jupyter.widget-view+json": {
       "model_id": "e07af41856c14e9c9b262b96eb4d5898",
       "version_major": 2,
       "version_minor": 0
      },
      "text/plain": [
       "interactive(children=(Dropdown(description='Site:', options=('OC-21-01', 'OC-21-02', 'OC-21-03'), value='OC-21…"
      ]
     },
     "metadata": {},
     "output_type": "display_data"
    },
    {
     "data": {
      "text/plain": [
       "<function __main__.update_plot(site, year_range, xvar, yvar)>"
      ]
     },
     "execution_count": 26,
     "metadata": {},
     "output_type": "execute_result"
    }
   ],
   "source": [
    "site_selector = widgets.Dropdown(\n",
    "    options=site_names,\n",
    "    value=site_names[0],\n",
    "    description='Site:'\n",
    ")\n",
    "\n",
    "year_slider = widgets.IntRangeSlider(\n",
    "    value=[1980, 2000],\n",
    "    min=1950,\n",
    "    max=2022,\n",
    "    step=1,\n",
    "    description='Year Range:',\n",
    "    continuous_update=False\n",
    ")\n",
    "\n",
    "x_selector = widgets.Dropdown(\n",
    "    options=variables,\n",
    "    value='MAR',\n",
    "    description='X Variable:'\n",
    ")\n",
    "\n",
    "y_selector = widgets.Dropdown(\n",
    "    options=variables,\n",
    "    value='LOI',\n",
    "    description='Y Variable:'\n",
    ")\n",
    "\n",
    "widgets.interact(\n",
    "    update_plot,\n",
    "    site=site_selector,\n",
    "    year_range=year_slider,\n",
    "    xvar=x_selector,\n",
    "    yvar=y_selector\n",
    ")\n"
   ]
  },
  {
   "cell_type": "code",
   "execution_count": null,
   "metadata": {},
   "outputs": [],
   "source": []
  }
 ],
 "metadata": {
  "kernelspec": {
   "display_name": "EDSReanalysis",
   "language": "python",
   "name": "python3"
  },
  "language_info": {
   "codemirror_mode": {
    "name": "ipython",
    "version": 3
   },
   "file_extension": ".py",
   "mimetype": "text/x-python",
   "name": "python",
   "nbconvert_exporter": "python",
   "pygments_lexer": "ipython3",
   "version": "3.8.16"
  }
 },
 "nbformat": 4,
 "nbformat_minor": 2
}
