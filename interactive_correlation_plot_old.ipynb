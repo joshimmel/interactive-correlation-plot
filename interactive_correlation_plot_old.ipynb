{
 "cells": [
  {
   "cell_type": "code",
   "execution_count": 1,
   "metadata": {},
   "outputs": [],
   "source": [
    "\n",
    "# Barebones code to plot interactive correlation plot on web"
   ]
  },
  {
   "cell_type": "code",
   "execution_count": 39,
   "metadata": {},
   "outputs": [],
   "source": [
    "def log(msg):\n",
    "    with open(\"voila_debug_log.txt\", \"a\", encoding=\"utf-8\") as f:\n",
    "        f.write(str(msg) + \"\\n\")\n",
    "\n",
    "# Optional: clear log at start of each session\n",
    "with open(\"voila_debug_log.txt\", \"w\") as f:\n",
    "    f.write(\"Starting new Voila session...\\n\")\n"
   ]
  },
  {
   "cell_type": "code",
   "execution_count": 40,
   "metadata": {},
   "outputs": [],
   "source": [
    "import pandas as pd\n",
    "import numpy as np\n",
    "import plotly.graph_objs as go\n",
    "import ipywidgets as widgets\n",
    "from IPython.display import display\n",
    "from scipy.stats import pearsonr\n",
    "\n"
   ]
  },
  {
   "cell_type": "code",
   "execution_count": 41,
   "metadata": {},
   "outputs": [],
   "source": [
    "# Load the saved CSV file back into a dataframe\n",
    "merged_data = pd.read_csv(\"merged_data_MAR_LOI_GS.csv\", index_col=0)"
   ]
  },
  {
   "cell_type": "code",
   "execution_count": 42,
   "metadata": {},
   "outputs": [],
   "source": [
    "# Automatically extract site names and variable types from column names\n",
    "site_names = sorted(set(col.split('_')[0] for col in merged_data.columns if \"_Year\" in col))\n",
    "variables = sorted(set(col.split('_')[1] for col in merged_data.columns if not col.endswith(\"Year\")))\n"
   ]
  },
  {
   "cell_type": "code",
   "execution_count": 43,
   "metadata": {},
   "outputs": [],
   "source": [
    "def update_plot(site1, site2, year_range, var1, var2):\n",
    "    try:\n",
    "        # Site 1\n",
    "        df1 = merged_data[[f'{site1}_Year', f'{site1}_{var1}']].dropna().rename(columns={f'{site1}_Year': 'Year', f'{site1}_{var1}': 'X'})\n",
    "        df1_full = df1.copy()\n",
    "        df1_zoom = df1[(df1['Year'] >= year_range[0]) & (df1['Year'] <= year_range[1])]\n",
    "\n",
    "        # Site 2\n",
    "        df2 = merged_data[[f'{site2}_Year', f'{site2}_{var2}']].dropna().rename(columns={f'{site2}_Year': 'Year', f'{site2}_{var2}': 'Y'})\n",
    "        df2_full = df2.copy()\n",
    "        df2_zoom = df2[(df2['Year'] >= year_range[0]) & (df2['Year'] <= year_range[1])]\n",
    "\n",
    "        # Pearson correlation only where both zoomed datasets align\n",
    "        df_zoom_merged = pd.merge(df1_zoom, df2_zoom, on='Year')\n",
    "        if len(df_zoom_merged) >= 2 and df_zoom_merged['X'].nunique() > 1 and df_zoom_merged['Y'].nunique() > 1:\n",
    "            r, p = pearsonr(df_zoom_merged['X'], df_zoom_merged['Y'])\n",
    "            corr_label = f\"Pearson r = {r:.2f}, p = {p:.2g}\"\n",
    "        else:\n",
    "            corr_label = \"Correlation not valid\"\n",
    "\n",
    "        # Colors\n",
    "        color1 = CUD_COLORS.get(var1, CUD_COLORS[\"default\"])\n",
    "        color2 = CUD_COLORS.get(var2, CUD_COLORS[\"default\"])\n",
    "\n",
    "        # Update traces\n",
    "        fig.data[0].x = df1_full['Year']\n",
    "        fig.data[0].y = df1_full['X']\n",
    "        fig.data[0].name = f'{site1} {var1} (all)'\n",
    "        fig.data[0].line.color = color1\n",
    "        fig.data[0].line.dash = 'dot'\n",
    "\n",
    "        fig.data[1].x = df2_full['Year']\n",
    "        fig.data[1].y = df2_full['Y']\n",
    "        fig.data[1].name = f'{site2} {var2} (all)'\n",
    "        fig.data[1].line.color = color2\n",
    "        fig.data[1].line.dash = 'dot'\n",
    "\n",
    "        fig.data[2].x = df1_zoom['Year']\n",
    "        fig.data[2].y = df1_zoom['X']\n",
    "        fig.data[2].name = f'{site1} {var1} (zoom)'\n",
    "        fig.data[2].line.color = color1\n",
    "        fig.data[2].line.width = 4\n",
    "\n",
    "        fig.data[3].x = df2_zoom['Year']\n",
    "        fig.data[3].y = df2_zoom['Y']\n",
    "        fig.data[3].name = f'{site2} {var2} (zoom)'\n",
    "        fig.data[3].line.color = color2\n",
    "        fig.data[3].line.width = 4\n",
    "\n",
    "        # Update titles\n",
    "        fig.update_layout(\n",
    "            title=dict(\n",
    "                text=f\"{site1} {var1} vs {site2} {var2} ({year_range[0]}–{year_range[1]})<br>{corr_label}\",\n",
    "                x=0.5,\n",
    "                xanchor='center'\n",
    "            ),\n",
    "            yaxis=dict(title=dict(text=f'{site1} {var1}', font=dict(color=color1)), tickfont=dict(color=color1)),\n",
    "            yaxis2=dict(title=dict(text=f'{site2} {var2}', font=dict(color=color2)), tickfont=dict(color=color2)),\n",
    "            annotations=[\n",
    "                dict(\n",
    "                    text=\"Correlations only valid when comparing variables within a site\",\n",
    "                    xref=\"paper\", yref=\"paper\",\n",
    "                    x=0.5, y=1.1,  # above the main title\n",
    "                    showarrow=False,\n",
    "                    font=dict(size=10, color=\"black\"),\n",
    "                    align=\"center\"\n",
    "                )\n",
    "            ]\n",
    "        )\n",
    "\n",
    "\n",
    "        display(HTML(plot(fig, include_plotlyjs=True, output_type='div')))\n",
    "\n",
    "    except Exception as e:\n",
    "        log(f\"[ERROR] Exception in update_plot: {e}\")\n",
    "\n"
   ]
  },
  {
   "cell_type": "code",
   "execution_count": 45,
   "metadata": {},
   "outputs": [
    {
     "data": {
      "application/vnd.jupyter.widget-view+json": {
       "model_id": "4d5bd1778fde4d66bc750e33be4e4b53",
       "version_major": 2,
       "version_minor": 0
      },
      "text/plain": [
       "VBox(children=(HBox(children=(Dropdown(description='Site 1:', options=('OC-21-01', 'OC-21-02', 'OC-21-03'), va…"
      ]
     },
     "metadata": {},
     "output_type": "display_data"
    },
    {
     "data": {
      "application/vnd.jupyter.widget-view+json": {
       "model_id": "b0ecfb80cdae482fbe1e5c0b0fd31407",
       "version_major": 2,
       "version_minor": 0
      },
      "text/plain": [
       "Output()"
      ]
     },
     "metadata": {},
     "output_type": "display_data"
    }
   ],
   "source": [
    "# Make the site dropdowns\n",
    "site1_selector = widgets.Dropdown(\n",
    "    options=site_names,\n",
    "    value=site_names[0],\n",
    "    description='Site 1:'\n",
    ")\n",
    "\n",
    "site2_selector = widgets.Dropdown(\n",
    "    options=site_names,\n",
    "    value=site_names[0],\n",
    "    description='Site 2:'\n",
    ")\n",
    "\n",
    "# Variable dropdowns start EMPTY\n",
    "var1_selector = widgets.Dropdown(\n",
    "    options=[],\n",
    "    description='Variable 1:'\n",
    ")\n",
    "\n",
    "var2_selector = widgets.Dropdown(\n",
    "    options=[],\n",
    "    description='Variable 2:'\n",
    ")\n",
    "\n",
    "# Update variable dropdowns when sites are changed\n",
    "def update_var1(*args):\n",
    "    site1 = site1_selector.value\n",
    "    valid_vars = [v.replace(f\"{site1}_\", \"\") for v in merged_data.columns if v.startswith(f\"{site1}_\") and not v.endswith(\"_Year\")]\n",
    "    var1_selector.options = valid_vars\n",
    "    if valid_vars:\n",
    "        var1_selector.value = valid_vars[0]  # Set default\n",
    "\n",
    "def update_var2(*args):\n",
    "    site2 = site2_selector.value\n",
    "    valid_vars = [v.replace(f\"{site2}_\", \"\") for v in merged_data.columns if v.startswith(f\"{site2}_\") and not v.endswith(\"_Year\")]\n",
    "    var2_selector.options = valid_vars\n",
    "    if valid_vars:\n",
    "        var2_selector.value = valid_vars[0]  # Set default\n",
    "\n",
    "# Trigger variable updates on site change\n",
    "site1_selector.observe(update_var1, 'value')\n",
    "site2_selector.observe(update_var2, 'value')\n",
    "\n",
    "# Initialize once\n",
    "update_var1()\n",
    "update_var2()\n",
    "\n",
    "# Layout nicely\n",
    "ui = widgets.VBox([\n",
    "    widgets.HBox([site1_selector, var1_selector]),\n",
    "    widgets.HBox([site2_selector, var2_selector]),\n",
    "    year_slider\n",
    "])\n",
    "\n",
    "# Hook up to update_plot\n",
    "out = widgets.interactive_output(\n",
    "    update_plot,\n",
    "    {\n",
    "        'site1': site1_selector,\n",
    "        'site2': site2_selector,\n",
    "        'year_range': year_slider,\n",
    "        'var1': var1_selector,\n",
    "        'var2': var2_selector\n",
    "    }\n",
    ")\n",
    "\n",
    "display(ui, out)\n"
   ]
  },
  {
   "cell_type": "code",
   "execution_count": null,
   "metadata": {},
   "outputs": [],
   "source": []
  }
 ],
 "metadata": {
  "kernelspec": {
   "display_name": "EDSReanalysis",
   "language": "python",
   "name": "python3"
  },
  "language_info": {
   "codemirror_mode": {
    "name": "ipython",
    "version": 3
   },
   "file_extension": ".py",
   "mimetype": "text/x-python",
   "name": "python",
   "nbconvert_exporter": "python",
   "pygments_lexer": "ipython3",
   "version": "3.8.16"
  }
 },
 "nbformat": 4,
 "nbformat_minor": 2
}
